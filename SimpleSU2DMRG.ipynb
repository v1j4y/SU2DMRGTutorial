{
 "cells": [
  {
   "cell_type": "markdown",
   "id": "025e2392-e10d-4a9a-a318-0e38df9ad223",
   "metadata": {},
   "source": [
    "# Simple DMRG (Hubbard Hamiltonian)"
   ]
  },
  {
   "cell_type": "markdown",
   "id": "71664c18-19b8-448e-ac7b-e139f4f3e5a3",
   "metadata": {
    "tags": []
   },
   "source": [
    "## Setup Julia and DMRG environment"
   ]
  },
  {
   "cell_type": "code",
   "execution_count": 1,
   "id": "bc07ca11-9be6-4d97-898f-ffa815de02e7",
   "metadata": {},
   "outputs": [
    {
     "name": "stdout",
     "output_type": "stream",
     "text": [
      "-0.5440211108893698"
     ]
    }
   ],
   "source": [
    "using Revise\n",
    "includet(\"../src/dmrg.jl\")"
   ]
  },
  {
   "cell_type": "markdown",
   "id": "d1a86ff5-489b-438d-817a-221de0d6895e",
   "metadata": {},
   "source": [
    "# Hubbard Hamiltonian 10 sites"
   ]
  },
  {
   "cell_type": "markdown",
   "id": "f732ebc8-ab55-4e74-8f64-290af6b0dd86",
   "metadata": {},
   "source": [
    "## SU2 DMRG"
   ]
  },
  {
   "cell_type": "code",
   "execution_count": 2,
   "id": "4d4f020f-17e6-4a30-9ca9-9fe12ec32983",
   "metadata": {},
   "outputs": [
    {
     "name": "stdout",
     "output_type": "stream",
     "text": [
      "  0.000002 seconds (3 allocations: 288 bytes)\n"
     ]
    },
    {
     "data": {
      "text/plain": [
       "2-element Vector{Vector{Int64}}:\n",
       " [16, 1]\n",
       " [32, 1]"
      ]
     },
     "execution_count": 2,
     "metadata": {},
     "output_type": "execute_result"
    }
   ],
   "source": [
    "Nsites=10\n",
    "Nelec=10\n",
    "Ssites=0.0\n",
    "max_δnel = 2\n",
    "max_δs = 1.5\n",
    "@time begin\n",
    "    schedule = [[16,1],[32,1]]\n",
    "end\n",
    "\n",
    "# By default t=1 and U=1\n"
   ]
  },
  {
   "cell_type": "markdown",
   "id": "b31c37e6-1b6e-4901-9ed1-8524ad97bd1f",
   "metadata": {},
   "source": [
    "## Do the calculation"
   ]
  },
  {
   "cell_type": "code",
   "execution_count": 3,
   "id": "d49db05f-ed9c-4ad9-898e-d5b9d34a55bf",
   "metadata": {
    "collapsed": true,
    "jupyter": {
     "outputs_hidden": true
    },
    "tags": []
   },
   "outputs": [
    {
     "name": "stdout",
     "output_type": "stream",
     "text": [
      "||         DMRG  SCHEDULE BEGIN               ||\n",
      "||         DMRG  SCHEDULE  1 :> M =    16      ||\n",
      "Normalize=1.0\n",
      "Starting DMRG Sweeps from: 5\n",
      "\n",
      "==============================================\n",
      "||         Nsites     = 10                   ||\n",
      "||         DMRG  Sweep=  1                   ||\n",
      "||         Threshold  = 0.01000              ||\n",
      "||         M          = 16                ||\n",
      "|           Energy = -10.000000000000000       |\n",
      "==============================================\n",
      "\n"
     ]
    },
    {
     "name": "stderr",
     "output_type": "stream",
     "text": [
      "\u001b[32mSweepR... 100%|██████████████████████████████████████████| Time: 0:00:14\u001b[39m\n",
      "\u001b[32mSweepL... 100%|██████████████████████████████████████████| Time: 0:00:03\u001b[39m\n"
     ]
    },
    {
     "name": "stdout",
     "output_type": "stream",
     "text": [
      "\n",
      "==============================================\n",
      "||         Nsites     = 10                   ||\n",
      "||         DMRG  END                          ||\n",
      "||         Threshold  = 0.01000              ||\n",
      "||         M          = 16                ||\n",
      "|           Energy = -9.763671194925331       |\n",
      "|           ΔE     = -0.236328805074669       |\n",
      "==============================================\n",
      "\n",
      "\u001b[0m\u001b[1m ────────────────────────────────────────────\u001b[22m\n",
      "\u001b[0m\u001b[1m                      \u001b[22m         Time          \n",
      "                      ───────────────────────\n",
      "   Tot / % measured:        126s /  13.9%    \n",
      "\n",
      " Section      ncalls     time    %tot     avg\n",
      " ────────────────────────────────────────────\n",
      " diag Heff        12    8.32s   47.6%   693ms\n",
      " calc Heff         2    4.66s   26.7%   2.33s\n",
      " move Gauge       12    3.35s   19.2%   279ms\n",
      " move Heff        10    1.13s    6.5%   113ms\n",
      "\u001b[0m\u001b[1m ────────────────────────────────────────────\u001b[22m||         DMRG  SCHEDULE  2 :> M =    32      ||\n",
      "Starting DMRG Sweeps from: 5\n",
      "\n",
      "==============================================\n",
      "||         Nsites     = 10                   ||\n",
      "||         DMRG  Sweep=  1                   ||\n",
      "||         Threshold  = 0.01000              ||\n",
      "||         M          = 32                ||\n",
      "|           Energy = -9.763671194925331       |\n",
      "==============================================\n",
      "\n"
     ]
    },
    {
     "name": "stderr",
     "output_type": "stream",
     "text": [
      "\u001b[32mSweepR... 100%|██████████████████████████████████████████| Time: 0:00:06\u001b[39m\n",
      "\u001b[32mSweepL... 100%|██████████████████████████████████████████| Time: 0:00:01\u001b[39m\n"
     ]
    },
    {
     "name": "stdout",
     "output_type": "stream",
     "text": [
      "\n",
      "==============================================\n",
      "||         Nsites     = 10                   ||\n",
      "||         DMRG  END                          ||\n",
      "||         Threshold  = 0.01000              ||\n",
      "||         M          = 32                ||\n",
      "|           Energy = -9.766216827240608       |\n",
      "|           ΔE     = 0.002545632315277       |\n",
      "==============================================\n",
      "\n",
      "\u001b[0m\u001b[1m ────────────────────────────────────────────\u001b[22m\n",
      "\u001b[0m\u001b[1m                      \u001b[22m         Time          \n",
      "                      ───────────────────────\n",
      "   Tot / % measured:        135s /  18.9%    \n",
      "\n",
      " Section      ncalls     time    %tot     avg\n",
      " ────────────────────────────────────────────\n",
      " diag Heff        24    14.8s   57.8%   616ms\n",
      " calc Heff         4    5.30s   20.7%   1.33s\n",
      " move Gauge       24    3.42s   13.4%   143ms\n",
      " move Heff        20    2.06s    8.1%   103ms\n",
      "\u001b[0m\u001b[1m ────────────────────────────────────────────\u001b[22mU=(3, 3, 3) D=(1,) Vt=(1,)\n",
      "U=(1,) D=(3, 3) Vt=(3, 20, 20)\n",
      "U=(1,) D=(1,) Vt=(10, 93, 173)\n",
      "U=(1,) D=(1,) Vt=(33, 356, 1691)\n",
      "U=(1,) D=(1,) Vt=(113, 877, 11385)\n",
      "U=(1,) D=(1,) Vt=(267, 376, 11385)\n",
      "U=(1,) D=(1,) Vt=(113, 113, 1691)\n",
      "U=(1,) D=(1,) Vt=(33, 33, 173)\n",
      "U=(1,) D=(1,) Vt=(10, 10, 20)\n",
      "U=(1,) D=(1,) Vt=(3, 3, 3)\n",
      "||         DMRG  SCHEDULE END                 ||\n",
      " 47.782929 seconds (86.97 M allocations: 6.556 GiB, 2.99% gc time, 55.86% compilation time)\n"
     ]
    }
   ],
   "source": [
    "@time begin\n",
    "    dmrg2site_1D_withSchedule(Nsites,Ssites,Nelec,max_δnel,max_δs,schedule)\n",
    "end"
   ]
  },
  {
   "cell_type": "markdown",
   "id": "84d46b14-7204-45a3-9e0c-86839a92e614",
   "metadata": {},
   "source": [
    "## Results"
   ]
  },
  {
   "cell_type": "markdown",
   "id": "7cf4993b-b343-40ea-a6f9-1b8d46adcb76",
   "metadata": {},
   "source": [
    "Ground State Energy = -9.7662168 (t=1, U=1)\n",
    "\n",
    "Total Time          = 50 seconds"
   ]
  },
  {
   "cell_type": "markdown",
   "id": "bea91a08-8476-4a28-963d-f050c11c3373",
   "metadata": {},
   "source": [
    "## ITensor"
   ]
  },
  {
   "cell_type": "code",
   "execution_count": 5,
   "id": "e5520b91-5a16-448e-b11d-b71a8f15bbf8",
   "metadata": {
    "collapsed": true,
    "jupyter": {
     "outputs_hidden": true,
     "source_hidden": true
    },
    "tags": []
   },
   "outputs": [
    {
     "name": "stderr",
     "output_type": "stream",
     "text": [
      "WARNING: using ITensors.MPS in module Main conflicts with an existing identifier.\n",
      "WARNING: using ITensors.MPO in module Main conflicts with an existing identifier.\n"
     ]
    },
    {
     "ename": "LoadError",
     "evalue": "MethodError: no method matching MPO(::OpSum, ::Vector{Index{Vector{Pair{QN, Int64}}}})\n\u001b[0mClosest candidates are:\n\u001b[0m  MPO(::Any, ::Any, \u001b[91m::Any\u001b[39m, \u001b[91m::Any\u001b[39m, \u001b[91m::Any\u001b[39m, \u001b[91m::Int64\u001b[39m, \u001b[91m::String\u001b[39m, \u001b[91m::Any\u001b[39m, \u001b[91m::Any\u001b[39m) at /home/vijay/Documents/codes/julia/spin_adapted_operators/src/mpo.jl:17\n\u001b[0m  MPO(::Any, ::Any, \u001b[91m::Any\u001b[39m, \u001b[91m::Any\u001b[39m, \u001b[91m::Any\u001b[39m, \u001b[91m::Any\u001b[39m, \u001b[91m::Any\u001b[39m, \u001b[91m::Any\u001b[39m, \u001b[91m::Any\u001b[39m) at /home/vijay/Documents/codes/julia/spin_adapted_operators/src/mpo.jl:17",
     "output_type": "error",
     "traceback": [
      "MethodError: no method matching MPO(::OpSum, ::Vector{Index{Vector{Pair{QN, Int64}}}})\n\u001b[0mClosest candidates are:\n\u001b[0m  MPO(::Any, ::Any, \u001b[91m::Any\u001b[39m, \u001b[91m::Any\u001b[39m, \u001b[91m::Any\u001b[39m, \u001b[91m::Int64\u001b[39m, \u001b[91m::String\u001b[39m, \u001b[91m::Any\u001b[39m, \u001b[91m::Any\u001b[39m) at /home/vijay/Documents/codes/julia/spin_adapted_operators/src/mpo.jl:17\n\u001b[0m  MPO(::Any, ::Any, \u001b[91m::Any\u001b[39m, \u001b[91m::Any\u001b[39m, \u001b[91m::Any\u001b[39m, \u001b[91m::Any\u001b[39m, \u001b[91m::Any\u001b[39m, \u001b[91m::Any\u001b[39m, \u001b[91m::Any\u001b[39m) at /home/vijay/Documents/codes/julia/spin_adapted_operators/src/mpo.jl:17",
      "",
      "Stacktrace:",
      " [1] macro expansion",
      "   @ In[5]:30 [inlined]",
      " [2] top-level scope",
      "   @ timing.jl:210",
      " [3] eval",
      "   @ ./boot.jl:360 [inlined]",
      " [4] include_string(mapexpr::typeof(REPL.softscope), mod::Module, code::String, filename::String)",
      "   @ Base ./loading.jl:1116"
     ]
    }
   ],
   "source": [
    "using ITensors\n",
    "@time begin\n",
    "let\n",
    "  N = 10\n",
    "  Npart = 10\n",
    "  t1 = 1.0\n",
    "  t2 = 0.0\n",
    "  U  = 1.0\n",
    "  V1 = 0.0\n",
    "\n",
    "  sites = siteinds(\"Electron\",N; conserve_qns=true)\n",
    "\n",
    "  ampo = AutoMPO()\n",
    "  for i=1:N\n",
    "    ampo += (U,\"Nupdn\",i)\n",
    "  end\n",
    "  for b=1:N-1\n",
    "    ampo += (-t1,\"Cdagup\",b,\"Cup\",b+1)\n",
    "    ampo += (-t1,\"Cdagup\",b+1,\"Cup\",b)\n",
    "    ampo += (-t1,\"Cdagdn\",b,\"Cdn\",b+1)\n",
    "    ampo += (-t1,\"Cdagdn\",b+1,\"Cdn\",b)\n",
    "    ampo += (V1,\"Ntot\",b,\"Ntot\",b+1)\n",
    "  end\n",
    "  for b=1:N-2\n",
    "    ampo += (-t2,\"Cdagup\",b,\"Cup\",b+2)\n",
    "    ampo += (-t2,\"Cdagup\",b+2,\"Cup\",b)\n",
    "    ampo += (-t2,\"Cdagdn\",b,\"Cdn\",b+2)\n",
    "    ampo += (-t2,\"Cdagdn\",b+2,\"Cdn\",b)\n",
    "  end\n",
    "  H = MPO(ampo,sites)\n",
    "\n",
    "  sweeps = Sweeps(6)\n",
    "  maxdim!(sweeps,50,100,200,400,800,800)\n",
    "  cutoff!(sweeps,1E-12)\n",
    "  @show sweeps\n",
    "\n",
    "  state = [\"Emp\" for n=1:N]\n",
    "  p = Npart\n",
    "  for i=N:-1:1\n",
    "    if p > i\n",
    "      println(\"Doubly occupying site $i\")\n",
    "      state[i] = \"UpDn\"\n",
    "      p -= 2\n",
    "    elseif p > 0\n",
    "      println(\"Singly occupying site $i\")\n",
    "      state[i] = (isodd(i) ? \"Up\" : \"Dn\")\n",
    "      p -= 1\n",
    "    end\n",
    "  end\n",
    "  # Initialize wavefunction to be bond \n",
    "  # dimension 10 random MPS with number\n",
    "  # of particles the same as `state`\n",
    "  psi0 = randomMPS(sites,state,10)\n",
    "\n",
    "  # Check total number of particles:\n",
    "  @show flux(psi0)\n",
    "\n",
    "  # Start DMRG calculation:\n",
    "  energy,psi = dmrg(H,psi0,sweeps)\n",
    "\n",
    "  upd = fill(0.0,N)\n",
    "  dnd = fill(0.0,N)\n",
    "  for j=1:N\n",
    "    orthogonalize!(psi,j)\n",
    "    psidag_j = dag(prime(psi[j], \"Site\"))\n",
    "    upd[j] = scalar(psidag_j * op(sites, \"Nup\", j) * psi[j])\n",
    "    dnd[j] = scalar(psidag_j * op(sites, \"Ndn\", j) * psi[j])\n",
    "  end\n",
    "\n",
    "  println(\"Up Density:\")\n",
    "  for j=1:N\n",
    "    println(\"$j $(upd[j])\")\n",
    "  end\n",
    "  println()\n",
    "\n",
    "  println(\"Dn Density:\")\n",
    "  for j=1:N\n",
    "    println(\"$j $(dnd[j])\")\n",
    "  end\n",
    "  println()\n",
    "\n",
    "  println(\"Total Density:\")\n",
    "  for j=1:N\n",
    "    println(\"$j $(upd[j]+dnd[j])\")\n",
    "  end\n",
    "  println()\n",
    "\n",
    "  println(\"\\nGround State Energy = $energy\")\n",
    "\n",
    "end\n",
    "end"
   ]
  },
  {
   "cell_type": "markdown",
   "id": "a8c91633-66a6-437a-9fb7-4e2def0e90ea",
   "metadata": {},
   "source": [
    "## Results (ITensor)"
   ]
  },
  {
   "cell_type": "markdown",
   "id": "b65c1d4f-7719-4f91-a5ac-e82ab2832fee",
   "metadata": {},
   "source": [
    "Ground State Energy = -9.7662747 (t=1, U=1)\n",
    "\n",
    "Total Time          = 80 seconds"
   ]
  },
  {
   "cell_type": "code",
   "execution_count": null,
   "id": "66f62b26-0187-4277-9971-b1fc0d52985f",
   "metadata": {},
   "outputs": [],
   "source": []
  }
 ],
 "metadata": {
  "kernelspec": {
   "display_name": "Julia 1.6.3",
   "language": "julia",
   "name": "julia-1.6"
  },
  "language_info": {
   "file_extension": ".jl",
   "mimetype": "application/julia",
   "name": "julia",
   "version": "1.6.3"
  }
 },
 "nbformat": 4,
 "nbformat_minor": 5
}
